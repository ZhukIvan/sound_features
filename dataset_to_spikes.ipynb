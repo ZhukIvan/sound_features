{
 "cells": [
  {
   "cell_type": "code",
   "execution_count": null,
   "metadata": {
    "collapsed": false
   },
   "outputs": [],
   "source": [
    "# import os\n",
    "import numpy as np\n",
    "import os\n",
    "import pylab as plt\n",
    "import soundfile as sf\n",
    "import pickle\n",
    "from spikes import *\n",
    "from brian import *\n",
    "from brian.hears import *\n",
    "\n",
    "f_res = 128 # frequency resolution value (number of neurons to model)\n",
    "t_res = 102.4 # time reesolution value (points per second)\n",
    "\n",
    "# frequency range to process\n",
    "fr_min = 20 * Hz\n",
    "fr_max = 5.5 * kHz\n",
    "\n",
    "def find_nearest_idx(array, value):\n",
    "    return np.abs(array - value).argmin()\n",
    "\n",
    "def save_obj(obj, path):\n",
    "    head, _, _ = path.partition('.')\n",
    "    with open(head + '.pickle', 'wb') as f:\n",
    "        pickle.dump(obj, f, pickle.HIGHEST_PROTOCOL)\n",
    "\n",
    "def load_obj(path):\n",
    "    with open(path, 'rb') as f:\n",
    "        return pickle.load(f)\n",
    "\n",
    "def wav_to_spikes_pickle(filename, cfmin=50 * Hz, cfmax=11 * kHz,\n",
    "                      cfN=128, threshold=0.5, refractory=5 * ms, threads=4,\n",
    "                      eqs = '''\n",
    "                      dv/dt = (I-v)/(2*ms): 1\n",
    "                      I : 1\n",
    "                      '''):\n",
    "    # Inner hair cell model\n",
    "    cf = erbspace(cfmin, cfmax, cfN)\n",
    "\n",
    "    data, srate = sf.read(filename)\n",
    "    sound = Sound(data, srate*Hz)\n",
    "    if sound.shape[1] > 1:\n",
    "        sound = sound.left\n",
    "\n",
    "    gfb = Gammatone(sound, cf)\n",
    "\n",
    "    ihc = FunctionFilterbank(gfb, lambda x: 2.5 * clip(x, 0, Inf) ** (1.0 / 5.0))\n",
    "    # Leaky integrate-and-fire model with refractoriness\n",
    "    G = FilterbankGroup(ihc, 'I', eqs, reset=0, threshold=threshold,\n",
    "                        refractory=refractory)\n",
    "    # Run, and raster plot of the spikes\n",
    "    M = SpikeMonitor(G)\n",
    "    # Seems threads don't work at all\n",
    "    run(sound.duration, threads=8)\n",
    "    # Save raw spikes to pickle file\n",
    "    save_obj(M.spikes, filename)\n",
    "\n",
    "    \n",
    "def dir_to_spikes_pickle(path, filetype, cfN=128, threads=4):\n",
    "    for root, dirs, files in os.walk(path):\n",
    "        for file in files:\n",
    "            if file[-len(filetype):] == filetype:\n",
    "                filename = root + '/' + file\n",
    "                wav_to_spikes_pickle(filename, cfN=cfN, threads=threads)\n",
    "                print filename\n",
    "                \n",
    "        \n",
    "def dir_pickle_to_mat(path, f_res, t_res):\n",
    "    data = []\n",
    "    target = []\n",
    "    for root, dirs, files in os.walk(path):\n",
    "        for file in files:\n",
    "            head, sep, tail = file.partition('.')\n",
    "            if tail == 'pickle':\n",
    "                filename = root+'/'+file\n",
    "                spikes = np.array(load_obj(filename))\n",
    "                # I use here 5 sec time length for whis dataset only\n",
    "                # In general case better to use datafeeder \n",
    "                # with general length within 1 batch instead of whole dataset\n",
    "                tmat = np.zeros((int(5*t_res), f_res), dtype='int8')\n",
    "                if (spikes.any()):\n",
    "                    t_scale = np.arange(0.0, spikes.T[1].max(), 1.0/t_res)\n",
    "                    for spike in spikes:\n",
    "                        idx = find_nearest_idx(t_scale, spike[1])\n",
    "                        if (idx < tmat.shape[0]):\n",
    "                            tmat[idx][int(spike[0])] = 1\n",
    "                    \n",
    "                    plt.imsave(filename[:-len(tail)] + 'jpg', tmat.T, cmap='Greys', origin='lower')\n",
    "                    target.append(int(root.split()[0][-3:])-1)\n",
    "                    data.append(tmat)\n",
    "                    print(spikes.shape[0]/float(tmat.sum()), spikes.T[1].max(), filename[:-len(tail)])\n",
    "    save = {'dataset' : np.array(data), 'labels' : np.array(target)}\n",
    "    save_obj(save, 'esc10.pickle')"
   ]
  },
  {
   "cell_type": "code",
   "execution_count": null,
   "metadata": {
    "collapsed": false
   },
   "outputs": [],
   "source": [
    "dir_to_spikes_pickle(\"/media/sprocketus/fast/speech_corpus/ESC-10-master/004 - Baby cry/\", filetype='ogg', threads=8)\n",
    "dir_to_spikes_pickle(\"/media/sprocketus/fast/speech_corpus/ESC-10-master/006 - Person sneeze/\", filetype='ogg', threads=8)\n",
    "dir_to_spikes_pickle(\"/media/sprocketus/fast/speech_corpus/ESC-10-master/008 - Chainsaw/\", filetype='ogg', threads=8)\n",
    "dir_to_spikes_pickle(\"/media/sprocketus/fast/speech_corpus/ESC-10-master/009 - Rooster/\", filetype='ogg', threads=8)"
   ]
  },
  {
   "cell_type": "code",
   "execution_count": null,
   "metadata": {
    "collapsed": false
   },
   "outputs": [],
   "source": [
    "dir_pickle_to_mat('/media/sprocketus/fast/speech_corpus/ESC-10-master/', f_res, t_res)"
   ]
  },
  {
   "cell_type": "code",
   "execution_count": null,
   "metadata": {
    "collapsed": true
   },
   "outputs": [],
   "source": []
  }
 ],
 "metadata": {
  "anaconda-cloud": {},
  "kernelspec": {
   "display_name": "Python [conda root]",
   "language": "python",
   "name": "conda-root-py"
  },
  "language_info": {
   "codemirror_mode": {
    "name": "ipython",
    "version": 2
   },
   "file_extension": ".py",
   "mimetype": "text/x-python",
   "name": "python",
   "nbconvert_exporter": "python",
   "pygments_lexer": "ipython2",
   "version": "2.7.12"
  }
 },
 "nbformat": 4,
 "nbformat_minor": 1
}

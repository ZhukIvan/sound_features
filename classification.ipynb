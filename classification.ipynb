{
 "cells": [
  {
   "cell_type": "markdown",
   "metadata": {
    "colab_type": "text",
    "id": "4embtkV0pNxM"
   },
   "source": [
    "## Classification with simple convnet\n",
    "-------------"
   ]
  },
  {
   "cell_type": "code",
   "execution_count": null,
   "metadata": {
    "cellView": "both",
    "colab": {
     "autoexec": {
      "startup": false,
      "wait_interval": 0
     }
    },
    "colab_type": "code",
    "collapsed": true,
    "id": "tm2CQN_Cpwj0"
   },
   "outputs": [],
   "source": [
    "# These are all the modules we'll be using later. Make sure you can import them\n",
    "# before proceeding further.\n",
    "from __future__ import print_function\n",
    "import numpy as np\n",
    "import tensorflow as tf\n",
    "from six.moves import cPickle as pickle\n",
    "from six.moves import range"
   ]
  },
  {
   "cell_type": "code",
   "execution_count": null,
   "metadata": {
    "cellView": "both",
    "colab": {
     "autoexec": {
      "startup": false,
      "wait_interval": 0
     },
     "output_extras": [
      {
       "item_id": 1
      }
     ]
    },
    "colab_type": "code",
    "collapsed": false,
    "executionInfo": {
     "elapsed": 11948,
     "status": "ok",
     "timestamp": 1446658914837,
     "user": {
      "color": "",
      "displayName": "",
      "isAnonymous": false,
      "isMe": true,
      "permissionId": "",
      "photoUrl": "",
      "sessionId": "0",
      "userId": ""
     },
     "user_tz": 480
    },
    "id": "y3-cj1bpmuxc",
    "outputId": "016b1a51-0290-4b08-efdb-8c95ffc3cd01"
   },
   "outputs": [],
   "source": [
    "pickle_file = 'esc10.pickle'\n",
    "\n",
    "with open(pickle_file, 'rb') as f:\n",
    "  save = pickle.load(f)\n",
    "  dataset = save['dataset']\n",
    "  labels = save['labels']\n",
    "  del save  # hint to help gc free up memory\n",
    "  print('Dataset', dataset.shape, labels.shape)"
   ]
  },
  {
   "cell_type": "markdown",
   "metadata": {
    "colab_type": "text",
    "id": "L7aHrm6nGDMB"
   },
   "source": [
    "Reformat into a TensorFlow-friendly shape:\n",
    "- convolutions need the image data formatted as a cube (width by height by #channels)\n",
    "- labels as float 1-hot encodings."
   ]
  },
  {
   "cell_type": "code",
   "execution_count": null,
   "metadata": {
    "cellView": "both",
    "colab": {
     "autoexec": {
      "startup": false,
      "wait_interval": 0
     },
     "output_extras": [
      {
       "item_id": 1
      }
     ]
    },
    "colab_type": "code",
    "collapsed": false,
    "executionInfo": {
     "elapsed": 11952,
     "status": "ok",
     "timestamp": 1446658914857,
     "user": {
      "color": "",
      "displayName": "",
      "isAnonymous": false,
      "isMe": true,
      "permissionId": "",
      "photoUrl": "",
      "sessionId": "0",
      "userId": ""
     },
     "user_tz": 480
    },
    "id": "IRSyYiIIGIzS",
    "outputId": "650a208c-8359-4852-f4f5-8bf10e80ef6c"
   },
   "outputs": [],
   "source": [
    "image_width = dataset.shape[1]\n",
    "image_height = dataset.shape[2]\n",
    "num_labels = 10\n",
    "num_channels = 1 # grayscale\n",
    "\n",
    "import numpy as np\n",
    "\n",
    "def reformat(dataset, labels):\n",
    "  dataset = dataset.reshape(\n",
    "    (-1, image_width, image_height, num_channels)).astype(np.float32)\n",
    "  labels = (np.unique(labels) == labels[:,None]).astype(np.float32)\n",
    "  return dataset, labels\n",
    "dataset, labels = reformat(dataset, labels)\n",
    "print('Dataset', dataset.shape, labels.shape)"
   ]
  },
  {
   "cell_type": "code",
   "execution_count": null,
   "metadata": {
    "cellView": "both",
    "colab": {
     "autoexec": {
      "startup": false,
      "wait_interval": 0
     }
    },
    "colab_type": "code",
    "collapsed": true,
    "id": "AgQDIREv02p1"
   },
   "outputs": [],
   "source": [
    "def accuracy(predictions, labels):\n",
    "  return (100.0 * np.sum(np.argmax(predictions, 1) == np.argmax(labels, 1))\n",
    "          / predictions.shape[0])"
   ]
  },
  {
   "cell_type": "markdown",
   "metadata": {
    "colab_type": "text",
    "id": "5rhgjmROXu2O"
   },
   "source": [
    "I know that KFold is not the best thing for deep learning, but the original paper with ESC dataset use it, so either do I."
   ]
  },
  {
   "cell_type": "code",
   "execution_count": null,
   "metadata": {
    "collapsed": true
   },
   "outputs": [],
   "source": [
    "#from sklearn.cross_validation import train_test_split\n",
    "#train_dataset, test_dataset, train_labels, test_labels = train_test_split(dataset, labels, test_size=0.1)"
   ]
  },
  {
   "cell_type": "code",
   "execution_count": null,
   "metadata": {
    "collapsed": false
   },
   "outputs": [],
   "source": [
    "from sklearn.model_selection import KFold\n",
    "KFolds_num = 10\n",
    "kf = KFold(n_splits=KFolds_num, shuffle=True)\n",
    "kf.get_n_splits(dataset, labels)"
   ]
  },
  {
   "cell_type": "code",
   "execution_count": null,
   "metadata": {
    "collapsed": false
   },
   "outputs": [],
   "source": [
    "batch_size = 16\n",
    "d_rate = 0.5\n",
    "l2_penalty = 0.01\n",
    "test_sz = dataset.shape[0] / KFolds_num\n",
    "# test_sz = dataset.shape[0] * 0.1\n",
    "\n",
    "graph = tf.Graph()\n",
    "\n",
    "\n",
    "with graph.as_default():\n",
    "\n",
    "    # Input data.\n",
    "    tf_train_dataset = tf.placeholder(tf.float32, shape=(batch_size, image_width, image_height, num_channels))\n",
    "    tf_train_labels = tf.placeholder(tf.float32, shape=(batch_size, num_labels))\n",
    "    tf_test_dataset = tf.placeholder(tf.float32, shape=(test_sz, image_width, image_height, num_channels))\n",
    "\n",
    "    # Variables.\n",
    "    layer1_weights = tf.Variable(tf.truncated_normal([3, 3, 1, 16], stddev=0.1))\n",
    "    layer1_biases  = tf.Variable(tf.zeros([16]))\n",
    "    \n",
    "    layer2_weights = tf.Variable(tf.truncated_normal([3, 3, 16, 32], stddev=0.1))\n",
    "#     layer2_biases  = tf.Variable(tf.constant(1.0, shape=[16]))\n",
    "    layer2_biases  = tf.Variable(tf.zeros([32]))\n",
    "\n",
    "    layer3_weights = tf.Variable(tf.truncated_normal([3, 3, 32, 64], stddev=0.1))\n",
    "#     layer3_biases  = tf.Variable(tf.constant(1.0, shape=[32]))\n",
    "    layer3_biases  = tf.Variable(tf.zeros([64]))\n",
    "    \n",
    "    layer4_weights = tf.Variable(tf.truncated_normal([1024, 128], stddev=0.1))\n",
    "#     layer4_biases  = tf.Variable(tf.constant(1.0, shape=[1024]))\n",
    "    layer4_biases  = tf.Variable(tf.zeros([128]))\n",
    "    \n",
    "    layer5_weights = tf.Variable(tf.truncated_normal([128, 128], stddev=0.1))\n",
    "#     layer5_biases  = tf.Variable(tf.constant(1.0, shape=[64]))\n",
    "    layer5_biases  = tf.Variable(tf.zeros([128]))\n",
    "    \n",
    "    layer6_weights = tf.Variable(tf.truncated_normal([128, num_labels], stddev=0.1))\n",
    "#     layer6_biases  = tf.Variable(tf.constant(1.0, shape=[num_labels]))\n",
    "    layer6_biases  = tf.Variable(tf.zeros([num_labels]))\n",
    "\n",
    "    # Model\n",
    "    def model(data, is_training=False):\n",
    "        drop_rate = d_rate if is_training else 0.0\n",
    "        \n",
    "        conv   = tf.nn.relu(tf.nn.conv2d(data, layer1_weights, [1, 2, 2, 1], padding='SAME') + layer1_biases)\n",
    "        hidden = tf.nn.max_pool(conv, ksize=[1, 2, 2, 1], strides=[1, 2, 2, 1], padding='SAME')\n",
    "        hidden = tf.nn.local_response_normalization(hidden)\n",
    "        \n",
    "        hidden = tf.nn.relu(tf.nn.conv2d(hidden, layer2_weights, [1, 2, 2, 1], padding='SAME') + layer2_biases)\n",
    "        hidden = tf.nn.max_pool(hidden, ksize=[1, 2, 2, 1], strides=[1, 2, 2, 1], padding='SAME')\n",
    "        hidden = tf.nn.local_response_normalization(hidden)\n",
    "        \n",
    "        hidden = tf.nn.relu(tf.nn.conv2d(hidden, layer3_weights, [1, 2, 2, 1], padding='SAME') + layer3_biases)\n",
    "        hidden = tf.nn.max_pool(hidden, ksize=[1, 2, 2, 1], strides=[1, 2, 2, 1], padding='SAME')\n",
    "        hidden = tf.nn.local_response_normalization(hidden)\n",
    "        \n",
    "        hidden = tf.nn.relu(tf.matmul(tf.contrib.layers.flatten(hidden), layer4_weights) + layer4_biases)\n",
    "        hidden = tf.layers.dropout(hidden, rate=drop_rate)\n",
    "        hidden = tf.nn.relu(tf.matmul(hidden, layer5_weights) + layer5_biases)\n",
    "        hidden = tf.layers.dropout(hidden, rate=drop_rate)\n",
    "        return tf.matmul(hidden, layer6_weights) + layer6_biases\n",
    "    \n",
    "    # Regularization\n",
    "    l2_loss = l2_penalty * (tf.nn.l2_loss(layer1_weights) + \n",
    "                            tf.nn.l2_loss(layer2_weights) +\n",
    "                            tf.nn.l2_loss(layer3_weights) +\n",
    "                            tf.nn.l2_loss(layer4_weights) +\n",
    "                            tf.nn.l2_loss(layer5_weights) +\n",
    "                            tf.nn.l2_loss(layer6_weights))\n",
    "    \n",
    "    # Training computation.\n",
    "    logits = model(tf_train_dataset, is_training=True)\n",
    "    loss = tf.reduce_mean(tf.nn.softmax_cross_entropy_with_logits(labels=tf_train_labels, logits=logits))\n",
    "#     loss = tf.add(loss, l2_loss)\n",
    "\n",
    "    # Optimizer.\n",
    "    global_step = tf.Variable(0, trainable=False)\n",
    "    learning_rate = 1e-3\n",
    "    decay_steps = 100\n",
    "    learning_rate = tf.train.natural_exp_decay(learning_rate, global_step, decay_steps, 0.25, staircase=True)\n",
    "#     optimizer = tf.train.GradientDescentOptimizer(learning_rate).minimize(loss, global_step=global_step)\n",
    "#     optimizer = tf.train.AdadeltaOptimizer(learning_rate).minimize(loss)\n",
    "    optimizer = tf.train.AdamOptimizer(learning_rate).minimize(loss, global_step=global_step)\n",
    "\n",
    "    # Predictions for the training, validation, and test data.\n",
    "    train_prediction = tf.nn.softmax(logits)\n",
    "    test_prediction = tf.nn.softmax(model(tf_test_dataset, is_training=False))"
   ]
  },
  {
   "cell_type": "code",
   "execution_count": null,
   "metadata": {
    "collapsed": false
   },
   "outputs": [],
   "source": [
    "num_steps = 501\n",
    "acc = []\n",
    "\n",
    "for train, test in kf.split(dataset, labels):\n",
    "    train_dataset, train_labels = dataset[train], labels[train]\n",
    "    test_dataset, test_labels = dataset[test], labels[test]\n",
    "    with tf.Session(graph=graph) as session:\n",
    "      test_list = []\n",
    "      tf.global_variables_initializer().run()\n",
    "      print('Initialized')\n",
    "      print('step \\t error \\t tr_acc  ts_acc')\n",
    "      for step in range(num_steps):\n",
    "        offset = (step * batch_size) % (train_labels.shape[0] - batch_size)\n",
    "        batch_data = train_dataset[offset:(offset + batch_size), :, :, :]\n",
    "        batch_labels = train_labels[offset:(offset + batch_size), :]\n",
    "        feed_dict = {tf_train_dataset : batch_data, tf_train_labels : batch_labels}\n",
    "        _, l, predictions = session.run([optimizer, loss, train_prediction], feed_dict=feed_dict)\n",
    "        if (step % 2 == 0):\n",
    "          test_list.append(accuracy(test_prediction.eval(feed_dict={tf_test_dataset : test_dataset}), test_labels))\n",
    "          print('%d \\t %.3f \\t %.1f \\t %.1f'\n",
    "                % (step, l, accuracy(predictions, batch_labels), test_list[-1]))\n",
    "\n",
    "    acc.append(max(test_list))  \n",
    "    print('Best test accuracy: %f%%' % acc[-1])\n",
    "      "
   ]
  },
  {
   "cell_type": "code",
   "execution_count": null,
   "metadata": {
    "collapsed": false
   },
   "outputs": [],
   "source": [
    "print(acc, np.mean(acc))"
   ]
  }
 ],
 "metadata": {
  "anaconda-cloud": {},
  "colab": {
   "default_view": {},
   "name": "4_convolutions.ipynb",
   "provenance": [],
   "version": "0.3.2",
   "views": {}
  },
  "kernelspec": {
   "display_name": "Python [default]",
   "language": "python",
   "name": "python2"
  },
  "language_info": {
   "codemirror_mode": {
    "name": "ipython",
    "version": 2
   },
   "file_extension": ".py",
   "mimetype": "text/x-python",
   "name": "python",
   "nbconvert_exporter": "python",
   "pygments_lexer": "ipython2",
   "version": "2.7.12"
  }
 },
 "nbformat": 4,
 "nbformat_minor": 0
}
